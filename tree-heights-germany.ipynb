{
 "cells": [
  {
   "cell_type": "markdown",
   "metadata": {},
   "source": [
    "# Imports"
   ]
  },
  {
   "cell_type": "code",
   "execution_count": null,
   "metadata": {},
   "outputs": [],
   "source": [
    "import os\n",
    "\n",
    "from matplotlib import pyplot as plt\n",
    "\n",
    "from src.utils import (\n",
    "    get_data,\n",
    "    get_device,\n",
    "    get_truth_vs_predicted,\n",
    "    load,\n",
    "    plot_image_and_prediction,\n",
    "    plot_image_channels,\n",
    "    plot_labels_in_germany,\n",
    "    plot_predictions,\n",
    "    predict_batch,\n",
    "    predict_image,\n",
    "    seed_everyting,\n",
    ")"
   ]
  },
  {
   "attachments": {},
   "cell_type": "markdown",
   "metadata": {},
   "source": [
    "# Global parameters"
   ]
  },
  {
   "cell_type": "code",
   "execution_count": null,
   "metadata": {},
   "outputs": [],
   "source": [
    "image_size = 256\n",
    "img_dir = \"data/images\"\n",
    "model_dir = \"models\"\n",
    "patch_dir = \"data/patches\"\n",
    "results_dir = \"results\"\n",
    "gedi_dir = \"data/gedi\"\n",
    "random_state = 42\n",
    "batch_size = 12\n",
    "num_workers = os.cpu_count() // 2\n",
    "bins = list(range(0, 55, 5))\n",
    "device = get_device()\n",
    "\n",
    "seed_everyting(random_state)"
   ]
  },
  {
   "cell_type": "code",
   "execution_count": null,
   "metadata": {},
   "outputs": [],
   "source": [
    "plot_image_channels(f\"{img_dir}/L15-1060E-1348N.tif\")"
   ]
  },
  {
   "cell_type": "code",
   "execution_count": null,
   "metadata": {},
   "outputs": [],
   "source": [
    "# plot_labels_in_germany()"
   ]
  },
  {
   "cell_type": "code",
   "execution_count": null,
   "metadata": {},
   "outputs": [],
   "source": [
    "# Plot histogram of labels\n",
    "# TODO"
   ]
  },
  {
   "cell_type": "markdown",
   "metadata": {},
   "source": [
    "# Create dataloaders"
   ]
  },
  {
   "cell_type": "code",
   "execution_count": null,
   "metadata": {},
   "outputs": [],
   "source": [
    "# Create dataloaders\n",
    "_, _, test_dl = get_data(\n",
    "    img_dir, patch_dir, gedi_dir, image_size, batch_size, num_workers, bins\n",
    ")"
   ]
  },
  {
   "attachments": {},
   "cell_type": "markdown",
   "metadata": {},
   "source": [
    "# Load models"
   ]
  },
  {
   "cell_type": "code",
   "execution_count": null,
   "metadata": {},
   "outputs": [],
   "source": [
    "models = {\n",
    "    \"unet\": load(f\"{model_dir}/u-plusplus-unetplusplus-efficientnet-b2.pt\", device),\n",
    "    \"vit-base\": load(f\"{model_dir}/archive/vit-base-vit-16.pt\", device),\n",
    "    \"vit-base-kd\": load(f\"{model_dir}/archive/vit-base-vit-16-kd.pt\", device),\n",
    "    \"vit-medium\": load(f\"{model_dir}/archive/vit-medium-vit-16.pt\", device),\n",
    "    \"vit-medium-kd\": load(f\"{model_dir}/archive/vit-medium-vit-16-kd.pt\", device),\n",
    "}"
   ]
  },
  {
   "cell_type": "markdown",
   "metadata": {},
   "source": [
    "# Visualise results"
   ]
  },
  {
   "cell_type": "code",
   "execution_count": null,
   "metadata": {},
   "outputs": [],
   "source": [
    "images, preds = predict_batch(models, test_dl, device)\n",
    "plot_predictions(images, preds)"
   ]
  },
  {
   "cell_type": "code",
   "execution_count": null,
   "metadata": {},
   "outputs": [],
   "source": [
    "model = models[\"unet\"]\n",
    "img, pred = predict_image(model, device, f\"{img_dir}/L15-1060E-1355N.tif\", image_size)\n",
    "plot_image_and_prediction(img, pred)"
   ]
  },
  {
   "cell_type": "code",
   "execution_count": null,
   "metadata": {},
   "outputs": [],
   "source": [
    "truth, predicted = get_truth_vs_predicted(model, test_dl, device)\n",
    "\n",
    "\n",
    "mask = (truth > 0) & (truth < 50)\n",
    "\n",
    "plt.scatter(truth[mask], predicted[mask], alpha=0.2)"
   ]
  },
  {
   "cell_type": "code",
   "execution_count": null,
   "metadata": {},
   "outputs": [],
   "source": [
    "plt.hist2d(truth[mask], predicted[mask], bins)[-1]"
   ]
  }
 ],
 "metadata": {
  "kernelspec": {
   "display_name": "Python 3",
   "language": "python",
   "name": "python3"
  },
  "language_info": {
   "codemirror_mode": {
    "name": "ipython",
    "version": 3
   },
   "file_extension": ".py",
   "mimetype": "text/x-python",
   "name": "python",
   "nbconvert_exporter": "python",
   "pygments_lexer": "ipython3",
   "version": "3.11.6"
  },
  "orig_nbformat": 4
 },
 "nbformat": 4,
 "nbformat_minor": 2
}
