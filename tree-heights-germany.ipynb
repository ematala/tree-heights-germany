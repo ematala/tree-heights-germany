{
 "cells": [
  {
   "cell_type": "markdown",
   "metadata": {},
   "source": [
    "# Imports"
   ]
  },
  {
   "cell_type": "code",
   "execution_count": 1,
   "metadata": {},
   "outputs": [],
   "source": [
    "import os\n",
    "\n",
    "from sklearn.model_selection import train_test_split as split\n",
    "from torch import save\n",
    "from torch.cuda import is_available as cuda_available\n",
    "from torch import device as Device\n",
    "from torch.backends.mps import is_available as mps_available\n",
    "from torch.optim import Adam\n",
    "from torch.utils.data import DataLoader\n",
    "from torch.utils.tensorboard import SummaryWriter\n",
    "\n",
    "from src.models.unet import UNet\n",
    "from src.utils.dataset import ForestDataset\n",
    "from src.utils.loss import loss\n",
    "from src.utils.models import train_loop, validation_loop\n",
    "from src.utils.plots import plot_image_and_prediction\n",
    "from src.utils.predictions import predict_patch\n",
    "from src.utils.preprocessing import Preprocessor"
   ]
  },
  {
   "attachments": {},
   "cell_type": "markdown",
   "metadata": {},
   "source": [
    "# Global parameters"
   ]
  },
  {
   "cell_type": "code",
   "execution_count": 2,
   "metadata": {},
   "outputs": [
    {
     "name": "stdout",
     "output_type": "stream",
     "text": [
      "Using mps device\n"
     ]
    }
   ],
   "source": [
    "img_dir = \"data/images\"\n",
    "patch_dir = \"data/patches\"\n",
    "log_dir = \"logs\"\n",
    "model_dir = \"models\"\n",
    "gedi_file = \"data/gedi/gedi_complete.fth\"\n",
    "patches_file = \"data/info/patches.fth\"\n",
    "seed = 42\n",
    "batch_size = 64\n",
    "num_workers = 6\n",
    "learning_rate = 1e-4\n",
    "epochs = 2\n",
    "device = Device(\"cuda\" if cuda_available() else \"mps\" if mps_available() else \"cpu\")\n",
    "print(f\"Using {device} device\")"
   ]
  },
  {
   "cell_type": "markdown",
   "metadata": {},
   "source": [
    "# Preprocess labels and patches"
   ]
  },
  {
   "cell_type": "markdown",
   "metadata": {},
   "source": [
    "| image | patch | n_labels |\n",
    "| - | - | - | \n",
    "| L15-1059E-1355N\t | 0\t | 28 |"
   ]
  },
  {
   "cell_type": "code",
   "execution_count": 3,
   "metadata": {},
   "outputs": [
    {
     "name": "stderr",
     "output_type": "stream",
     "text": [
      "INFO:root:Starting preprocessing...\n",
      "INFO:root:Directories validated.\n",
      "INFO:root:Images loaded.\n",
      "INFO:root:Number of images: 48\n",
      "INFO:root:Loaded existing patch info file. Skipping image processing.\n"
     ]
    },
    {
     "name": "stdout",
     "output_type": "stream",
     "text": [
      "Total number of patches: 101423\n"
     ]
    }
   ],
   "source": [
    "# Create preprocessor\n",
    "preprocessor = Preprocessor(patches_file, img_dir, patch_dir, gedi_file)\n",
    "\n",
    "preprocessor.run()\n",
    "\n",
    "# Extract patches\n",
    "patches = preprocessor.patches\n",
    "\n",
    "print(f\"Total number of patches: {len(patches)}\")"
   ]
  },
  {
   "attachments": {},
   "cell_type": "markdown",
   "metadata": {},
   "source": [
    "## Create datasets & dataloader"
   ]
  },
  {
   "cell_type": "code",
   "execution_count": 4,
   "metadata": {},
   "outputs": [],
   "source": [
    "# Split patches\n",
    "train, rest = split(patches, test_size=0.3, random_state=seed)\n",
    "val, test = split(rest, test_size=0.5, random_state=seed)\n",
    "\n",
    "# Create datasets\n",
    "train_data = ForestDataset(train)\n",
    "val_data = ForestDataset(val)\n",
    "test_data = ForestDataset(test)\n",
    "\n",
    "# Create dataloaders\n",
    "train_loader = DataLoader(train_data, batch_size, True, num_workers=num_workers)\n",
    "val_loader = DataLoader(val_data, batch_size, False, num_workers=num_workers)\n",
    "test_loader = DataLoader(val_data, batch_size, False, num_workers=num_workers)"
   ]
  },
  {
   "attachments": {},
   "cell_type": "markdown",
   "metadata": {},
   "source": [
    "# Create model"
   ]
  },
  {
   "cell_type": "code",
   "execution_count": 5,
   "metadata": {},
   "outputs": [],
   "source": [
    "# Create model\n",
    "model = UNet().to(device)\n",
    "\n",
    "# Create optimizer\n",
    "optimizer = Adam(model.parameters(), learning_rate)\n",
    "\n",
    "# Create writer\n",
    "writer = SummaryWriter(log_dir)"
   ]
  },
  {
   "attachments": {},
   "cell_type": "markdown",
   "metadata": {},
   "source": [
    "# Train model"
   ]
  },
  {
   "cell_type": "code",
   "execution_count": 6,
   "metadata": {},
   "outputs": [
    {
     "name": "stderr",
     "output_type": "stream",
     "text": [
      "Training Epoch 1:   0%|          | 0/1110 [00:00<?, ?it/s]/Users/ematala/dev/tree-heights-germany/.venv/lib/python3.11/site-packages/torch/autograd/__init__.py:200: UserWarning: The operator 'aten::sgn.out' is not currently supported on the MPS backend and will fall back to run on the CPU. This may have performance implications. (Triggered internally at /Users/runner/work/pytorch/pytorch/pytorch/aten/src/ATen/mps/MPSFallback.mm:11.)\n",
      "  Variable._execution_engine.run_backward(  # Calls into the C++ engine to run the backward pass\n",
      "Training Epoch 1: 100%|██████████| 1110/1110 [09:21<00:00,  1.98it/s]\n",
      "Validation Epoch 1: 100%|██████████| 238/238 [01:06<00:00,  3.60it/s]\n",
      "Training Epoch 2: 100%|██████████| 1110/1110 [09:14<00:00,  2.00it/s]\n",
      "Validation Epoch 2: 100%|██████████| 238/238 [01:05<00:00,  3.64it/s]"
     ]
    },
    {
     "name": "stdout",
     "output_type": "stream",
     "text": [
      "Training complete.\n"
     ]
    },
    {
     "name": "stderr",
     "output_type": "stream",
     "text": [
      "\n"
     ]
    }
   ],
   "source": [
    "# Training loop\n",
    "for epoch in range(epochs):\n",
    "    train_loop(train_loader, model, loss, writer, device, epoch, optimizer)\n",
    "    validation_loop(val_loader, model, loss, writer, device, epoch)\n",
    "\n",
    "writer.close()\n",
    "\n",
    "print(\"Training complete.\")"
   ]
  },
  {
   "cell_type": "markdown",
   "metadata": {},
   "source": [
    "# Export model"
   ]
  },
  {
   "cell_type": "code",
   "execution_count": 7,
   "metadata": {},
   "outputs": [],
   "source": [
    "save(model.state_dict(), os.path.join(model_dir, \"unet.pt\"))"
   ]
  },
  {
   "cell_type": "code",
   "execution_count": 20,
   "metadata": {},
   "outputs": [
    {
     "data": {
      "image/png": "[encoded data removed]",
      "text/plain": [
       "<Figure size 1200x600 with 2 Axes>"
      ]
     },
     "metadata": {},
     "output_type": "display_data"
    }
   ],
   "source": [
    "idx = 3\n",
    "patch = test_data[idx]\n",
    "image, prediction = predict_patch(model, patch, device)\n",
    "plot_image_and_prediction(image, prediction)"
   ]
  }
 ],
 "metadata": {
  "kernelspec": {
   "display_name": "Python 3",
   "language": "python",
   "name": "python3"
  },
  "language_info": {
   "codemirror_mode": {
    "name": "ipython",
    "version": 3
   },
   "file_extension": ".py",
   "mimetype": "text/x-python",
   "name": "python",
   "nbconvert_exporter": "python",
   "pygments_lexer": "ipython3",
   "version": "3.11.4"
  },
  "orig_nbformat": 4
 },
 "nbformat": 4,
 "nbformat_minor": 2
}
