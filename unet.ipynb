{
 "cells": [
  {
   "cell_type": "markdown",
   "metadata": {},
   "source": [
    "# Imports"
   ]
  },
  {
   "cell_type": "code",
   "execution_count": 1,
   "metadata": {},
   "outputs": [],
   "source": [
    "import os\n",
    "\n",
    "from matplotlib import pyplot as plt\n",
    "from torch.optim import SGD\n",
    "from torch.optim.lr_scheduler import CosineAnnealingLR\n",
    "\n",
    "from segmentation_models_pytorch import Unet\n",
    "from src.utils import (\n",
    "    get_data,\n",
    "    get_device,\n",
    "    get_truth_vs_predicted,\n",
    "    load,\n",
    "    loss,\n",
    "    plot_image_and_prediction,\n",
    "    predict_image,\n",
    "    predict_patch,\n",
    "    seed_everyting,\n",
    "    test,\n",
    "    train,\n",
    ")"
   ]
  },
  {
   "attachments": {},
   "cell_type": "markdown",
   "metadata": {},
   "source": [
    "# Global parameters"
   ]
  },
  {
   "cell_type": "code",
   "execution_count": 2,
   "metadata": {},
   "outputs": [
    {
     "name": "stdout",
     "output_type": "stream",
     "text": [
      "Using mps device\n"
     ]
    }
   ],
   "source": [
    "patch_size = 256\n",
    "img_dir = \"data/images\"\n",
    "model_dir = \"models\"\n",
    "patch_dir = \"data/patches\"\n",
    "results_dir = \"results\"\n",
    "gedi_dir = \"data/gedi\"\n",
    "random_state = 42\n",
    "batch_size = 12\n",
    "num_workers = os.cpu_count()\n",
    "learning_rate = 1e-2\n",
    "epochs = 25\n",
    "is_training = False\n",
    "bins = list(range(0, 55, 5))\n",
    "device = get_device()\n",
    "\n",
    "seed_everyting(random_state)"
   ]
  },
  {
   "attachments": {},
   "cell_type": "markdown",
   "metadata": {},
   "source": [
    "# Create dataloaders"
   ]
  },
  {
   "cell_type": "code",
   "execution_count": 4,
   "metadata": {},
   "outputs": [],
   "source": [
    "# Create dataloaders\n",
    "train_dl, val_dl, test_dl = get_data(\n",
    "    img_dir, patch_dir, gedi_dir, patch_size, batch_size, num_workers, bins\n",
    ")"
   ]
  },
  {
   "attachments": {},
   "cell_type": "markdown",
   "metadata": {},
   "source": [
    "# Create & Train model"
   ]
  },
  {
   "cell_type": "code",
   "execution_count": null,
   "metadata": {},
   "outputs": [],
   "source": [
    "if is_training:\n",
    "    model = Unet(\n",
    "        encoder_name=\"efficientnet-b4\",\n",
    "        encoder_weights=None,\n",
    "        decoder_attention_type=\"scse\",\n",
    "        in_channels=5,\n",
    "    ).to(device)\n",
    "\n",
    "    # Create optimizer\n",
    "    optimizer = SGD(model.parameters(), learning_rate)\n",
    "\n",
    "    # Create scheduler\n",
    "    scheduler = CosineAnnealingLR(optimizer, epochs)\n",
    "\n",
    "    # Training loop\n",
    "    for epoch in range(epochs):\n",
    "        print(f\"Epoch {epoch + 1}\\n-------------------------------\")\n",
    "        train(train_dl, model, loss, device, optimizer, scheduler)\n",
    "        test(val_dl, model, loss, device)\n",
    "\n",
    "    print(\"Training finished.\")\n",
    "\n",
    "    test(test_dl, model, loss, device)\n",
    "else:\n",
    "    model = load(os.path.join(model_dir, \"unet\", f\"unet-{patch_size}.pt\"), device)"
   ]
  },
  {
   "cell_type": "code",
   "execution_count": null,
   "metadata": {},
   "outputs": [],
   "source": [
    "# save(model, os.path.join(model_dir, f\"{model.name}.pt\"))"
   ]
  },
  {
   "cell_type": "markdown",
   "metadata": {},
   "source": [
    "# Visualise results"
   ]
  },
  {
   "cell_type": "code",
   "execution_count": null,
   "metadata": {},
   "outputs": [],
   "source": [
    "inputs, targets = next(iter(test_dl))"
   ]
  },
  {
   "cell_type": "code",
   "execution_count": null,
   "metadata": {},
   "outputs": [],
   "source": [
    "idx = 42\n",
    "patch = inputs[idx], None\n",
    "img, pred = predict_patch(model, patch, device)\n",
    "plot_image_and_prediction(img, pred, 3)"
   ]
  },
  {
   "cell_type": "code",
   "execution_count": null,
   "metadata": {},
   "outputs": [],
   "source": [
    "image, prediction = predict_image(\n",
    "    model, device, f\"{img_dir}/L15-1059E-1348N.tif\", patch_size\n",
    ")"
   ]
  },
  {
   "cell_type": "code",
   "execution_count": null,
   "metadata": {},
   "outputs": [],
   "source": [
    "plot_image_and_prediction(image, prediction, 3)"
   ]
  },
  {
   "cell_type": "code",
   "execution_count": null,
   "metadata": {},
   "outputs": [],
   "source": [
    "truth, predicted = get_truth_vs_predicted(model, test_dl, device)"
   ]
  },
  {
   "cell_type": "code",
   "execution_count": null,
   "metadata": {},
   "outputs": [],
   "source": [
    "mask = (truth > 0) & (truth < 50)\n",
    "\n",
    "plt.scatter(truth[mask], predicted[mask], alpha=0.2)"
   ]
  },
  {
   "cell_type": "code",
   "execution_count": null,
   "metadata": {},
   "outputs": [],
   "source": [
    "plt.hist2d(truth[mask], predicted[mask], bins)"
   ]
  }
 ],
 "metadata": {
  "kernelspec": {
   "display_name": "Python 3",
   "language": "python",
   "name": "python3"
  },
  "language_info": {
   "codemirror_mode": {
    "name": "ipython",
    "version": 3
   },
   "file_extension": ".py",
   "mimetype": "text/x-python",
   "name": "python",
   "nbconvert_exporter": "python",
   "pygments_lexer": "ipython3",
   "version": "3.11.5"
  },
  "orig_nbformat": 4
 },
 "nbformat": 4,
 "nbformat_minor": 2
}
