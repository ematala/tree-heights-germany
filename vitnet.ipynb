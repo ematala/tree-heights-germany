{
 "cells": [
  {
   "cell_type": "markdown",
   "metadata": {},
   "source": [
    "# Imports"
   ]
  },
  {
   "cell_type": "code",
   "execution_count": 2,
   "metadata": {},
   "outputs": [],
   "source": [
    "# Imports\n",
    "import os\n",
    "\n",
    "from torch.optim import AdamW\n",
    "from torch.optim.lr_scheduler import CosineAnnealingLR\n",
    "\n",
    "from src.models.vitnet import VitNet\n",
    "from src.utils import (\n",
    "    Preprocessor,\n",
    "    plot_image_and_prediction,\n",
    "    predict_image,\n",
    "    predict_patch,\n",
    "    seed_everyting,\n",
    "    train,\n",
    "    test,\n",
    "    save,\n",
    "    get_splits,\n",
    "    get_datasets,\n",
    "    get_dataloaders,\n",
    "    get_device,\n",
    "    loss,\n",
    ")"
   ]
  },
  {
   "attachments": {},
   "cell_type": "markdown",
   "metadata": {},
   "source": [
    "# Global parameters"
   ]
  },
  {
   "cell_type": "code",
   "execution_count": 3,
   "metadata": {},
   "outputs": [
    {
     "name": "stdout",
     "output_type": "stream",
     "text": [
      "Using mps device\n"
     ]
    }
   ],
   "source": [
    "patch_size = 64\n",
    "img_dir = \"data/images\"\n",
    "model_dir = \"models\"\n",
    "patch_dir = \"data/patches\"\n",
    "gedi_dir = \"data/gedi\"\n",
    "random_state = 42\n",
    "batch_size = 2\n",
    "num_workers = os.cpu_count()\n",
    "learning_rate = 1e-4\n",
    "epochs = 2\n",
    "bins = list(range(0, 55, 5))\n",
    "device = get_device()\n",
    "\n",
    "seed_everyting(random_state)"
   ]
  },
  {
   "cell_type": "markdown",
   "metadata": {},
   "source": [
    "# Preprocess labels and patches"
   ]
  },
  {
   "cell_type": "code",
   "execution_count": 4,
   "metadata": {},
   "outputs": [
    {
     "name": "stderr",
     "output_type": "stream",
     "text": [
      "INFO:root:Starting preprocessing...\n",
      "INFO:root:Directories validated.\n",
      "INFO:root:Images loaded.\n",
      "INFO:root:Number of images: 48\n",
      "INFO:root:GEDI data loaded.\n",
      "INFO:root:Loaded existing patch info file. Skipping image processing.\n",
      "INFO:root:Number of patches: 101423\n",
      "INFO:root:Number of labels: 629074\n"
     ]
    },
    {
     "name": "stdout",
     "output_type": "stream",
     "text": [
      "Total number of patches: 101423\n"
     ]
    }
   ],
   "source": [
    "# Create preprocessor\n",
    "preprocessor = Preprocessor(img_dir, patch_dir, gedi_dir, patch_size)\n",
    "\n",
    "# Run preprocessor\n",
    "preprocessor.run()\n",
    "\n",
    "# Get patches\n",
    "patches = preprocessor.patches"
   ]
  },
  {
   "attachments": {},
   "cell_type": "markdown",
   "metadata": {},
   "source": [
    "# Create datasets & dataloader"
   ]
  },
  {
   "cell_type": "code",
   "execution_count": 4,
   "metadata": {},
   "outputs": [],
   "source": [
    "# Create splits\n",
    "train_df, val_df, test_df = get_splits(patches)\n",
    "\n",
    "# Create datasets\n",
    "train_ds, val_ds, test_ds = get_datasets(\n",
    "    train_df, val_df, test_df, f\"{patch_dir}/{patch_size}\"\n",
    ")\n",
    "\n",
    "# Create dataloaders\n",
    "train_dl, val_dl, test_dl = get_dataloaders(\n",
    "    train_ds, val_ds, test_ds, batch_size, num_workers\n",
    ")"
   ]
  },
  {
   "attachments": {},
   "cell_type": "markdown",
   "metadata": {},
   "source": [
    "# Create & Train model"
   ]
  },
  {
   "cell_type": "code",
   "execution_count": 5,
   "metadata": {},
   "outputs": [
    {
     "name": "stdout",
     "output_type": "stream",
     "text": [
      "Epoch 1\n",
      "-------------------------------\n"
     ]
    },
    {
     "name": "stderr",
     "output_type": "stream",
     "text": [
      "Training:   0%|          | 1/350 [00:15<1:28:36, 15.23s/it]"
     ]
    },
    {
     "name": "stdout",
     "output_type": "stream",
     "text": [
      "Train loss: 10.599902  [    2/  700]\n"
     ]
    },
    {
     "name": "stderr",
     "output_type": "stream",
     "text": [
      "Training:  15%|█▍        | 52/350 [00:29<01:15,  3.93it/s] "
     ]
    }
   ],
   "source": [
    "model = VitNet(\n",
    "    image_size=patch_size,\n",
    "    hidden_size=patch_size * 2,\n",
    "    intermediate_size=patch_size * 4,\n",
    ").to(device)\n",
    "\n",
    "# Create optimizer\n",
    "optimizer = AdamW(model.parameters(), learning_rate)\n",
    "\n",
    "# Create scheduler\n",
    "scheduler = CosineAnnealingLR(optimizer, epochs)\n",
    "\n",
    "# Training loop\n",
    "for epoch in range(epochs):\n",
    "    print(f\"Epoch {epoch + 1}\\n-------------------------------\")\n",
    "    train(train_dl, model, loss, device, optimizer, scheduler)\n",
    "    test(val_dl, model, loss, device)"
   ]
  },
  {
   "cell_type": "code",
   "execution_count": null,
   "metadata": {},
   "outputs": [],
   "source": [
    "# save(model, os.path.join(model_dir, f\"{model.name}.pt\"))"
   ]
  },
  {
   "cell_type": "markdown",
   "metadata": {},
   "source": [
    "# Visualise results"
   ]
  },
  {
   "cell_type": "code",
   "execution_count": null,
   "metadata": {},
   "outputs": [],
   "source": [
    "idx = 42\n",
    "patch = test_ds[idx]\n",
    "img, pred = predict_patch(model, patch, device)\n",
    "plot_image_and_prediction(img, pred, 3)"
   ]
  },
  {
   "cell_type": "code",
   "execution_count": null,
   "metadata": {},
   "outputs": [],
   "source": [
    "image, prediction = predict_image(\n",
    "    model, device, f\"{img_dir}/L15-1059E-1348N.tif\", patch_size\n",
    ")"
   ]
  },
  {
   "cell_type": "code",
   "execution_count": null,
   "metadata": {},
   "outputs": [],
   "source": [
    "plot_image_and_prediction(image, prediction, 3)"
   ]
  }
 ],
 "metadata": {
  "kernelspec": {
   "display_name": "Python 3",
   "language": "python",
   "name": "python3"
  },
  "language_info": {
   "codemirror_mode": {
    "name": "ipython",
    "version": 3
   },
   "file_extension": ".py",
   "mimetype": "text/x-python",
   "name": "python",
   "nbconvert_exporter": "python",
   "pygments_lexer": "ipython3",
   "version": "3.11.5"
  },
  "orig_nbformat": 4
 },
 "nbformat": 4,
 "nbformat_minor": 2
}
